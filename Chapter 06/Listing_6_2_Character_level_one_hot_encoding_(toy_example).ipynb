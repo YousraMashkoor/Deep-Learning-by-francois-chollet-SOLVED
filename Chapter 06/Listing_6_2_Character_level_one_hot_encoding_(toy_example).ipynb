{
  "nbformat": 4,
  "nbformat_minor": 0,
  "metadata": {
    "colab": {
      "name": "Listing 6.2 Character-level one-hot encoding (toy example)",
      "provenance": [],
      "authorship_tag": "ABX9TyOujiCKBLb4Wc3sL868SATh"
    },
    "kernelspec": {
      "name": "python3",
      "display_name": "Python 3"
    }
  },
  "cells": [
    {
      "cell_type": "code",
      "metadata": {
        "id": "4tRN6f7h_Kx3",
        "colab_type": "code",
        "colab": {}
      },
      "source": [
        "import numpy as np\n",
        "import string\n",
        "samples = ['The cat sat on the mat.', 'The dog ate my homework.']\n",
        "characters = string.printable\n",
        "token_index = dict(zip(range(1, len(characters) + 1), characters))\n",
        "\n",
        "max_length = 50\n",
        "\n",
        "results = np.zeros((len(samples), max_length, max(token_index.keys()) + 1))\n",
        "for i, sample in enumerate(samples):\n",
        "  for j, character in enumerate(sample):\n",
        "    index = token_index.get(character)\n",
        "    results[i, j, index] = 1."
      ],
      "execution_count": 3,
      "outputs": []
    },
    {
      "cell_type": "code",
      "metadata": {
        "id": "_G-ekQ4M9PdC",
        "colab_type": "code",
        "colab": {
          "base_uri": "https://localhost:8080/",
          "height": 34
        },
        "outputId": "a085057c-9240-41bc-f620-a8a67a932844"
      },
      "source": [
        "results.shape"
      ],
      "execution_count": 7,
      "outputs": [
        {
          "output_type": "execute_result",
          "data": {
            "text/plain": [
              "(2, 50, 101)"
            ]
          },
          "metadata": {
            "tags": []
          },
          "execution_count": 7
        }
      ]
    },
    {
      "cell_type": "code",
      "metadata": {
        "id": "aK-OY2CxPztx",
        "colab_type": "code",
        "colab": {
          "base_uri": "https://localhost:8080/",
          "height": 283
        },
        "outputId": "9a4f341c-136b-4d64-d4c5-63fec8b75b9e"
      },
      "source": [
        "results"
      ],
      "execution_count": 6,
      "outputs": [
        {
          "output_type": "execute_result",
          "data": {
            "text/plain": [
              "array([[[1., 1., 1., ..., 1., 1., 1.],\n",
              "        [1., 1., 1., ..., 1., 1., 1.],\n",
              "        [1., 1., 1., ..., 1., 1., 1.],\n",
              "        ...,\n",
              "        [0., 0., 0., ..., 0., 0., 0.],\n",
              "        [0., 0., 0., ..., 0., 0., 0.],\n",
              "        [0., 0., 0., ..., 0., 0., 0.]],\n",
              "\n",
              "       [[1., 1., 1., ..., 1., 1., 1.],\n",
              "        [1., 1., 1., ..., 1., 1., 1.],\n",
              "        [1., 1., 1., ..., 1., 1., 1.],\n",
              "        ...,\n",
              "        [0., 0., 0., ..., 0., 0., 0.],\n",
              "        [0., 0., 0., ..., 0., 0., 0.],\n",
              "        [0., 0., 0., ..., 0., 0., 0.]]])"
            ]
          },
          "metadata": {
            "tags": []
          },
          "execution_count": 6
        }
      ]
    },
    {
      "cell_type": "code",
      "metadata": {
        "id": "Fsf5pU1HNHwC",
        "colab_type": "code",
        "colab": {
          "base_uri": "https://localhost:8080/",
          "height": 1000
        },
        "outputId": "5c6dd11a-9321-492e-b698-7ad3530e2f88"
      },
      "source": [
        "token_index"
      ],
      "execution_count": 5,
      "outputs": [
        {
          "output_type": "execute_result",
          "data": {
            "text/plain": [
              "{1: '0',\n",
              " 2: '1',\n",
              " 3: '2',\n",
              " 4: '3',\n",
              " 5: '4',\n",
              " 6: '5',\n",
              " 7: '6',\n",
              " 8: '7',\n",
              " 9: '8',\n",
              " 10: '9',\n",
              " 11: 'a',\n",
              " 12: 'b',\n",
              " 13: 'c',\n",
              " 14: 'd',\n",
              " 15: 'e',\n",
              " 16: 'f',\n",
              " 17: 'g',\n",
              " 18: 'h',\n",
              " 19: 'i',\n",
              " 20: 'j',\n",
              " 21: 'k',\n",
              " 22: 'l',\n",
              " 23: 'm',\n",
              " 24: 'n',\n",
              " 25: 'o',\n",
              " 26: 'p',\n",
              " 27: 'q',\n",
              " 28: 'r',\n",
              " 29: 's',\n",
              " 30: 't',\n",
              " 31: 'u',\n",
              " 32: 'v',\n",
              " 33: 'w',\n",
              " 34: 'x',\n",
              " 35: 'y',\n",
              " 36: 'z',\n",
              " 37: 'A',\n",
              " 38: 'B',\n",
              " 39: 'C',\n",
              " 40: 'D',\n",
              " 41: 'E',\n",
              " 42: 'F',\n",
              " 43: 'G',\n",
              " 44: 'H',\n",
              " 45: 'I',\n",
              " 46: 'J',\n",
              " 47: 'K',\n",
              " 48: 'L',\n",
              " 49: 'M',\n",
              " 50: 'N',\n",
              " 51: 'O',\n",
              " 52: 'P',\n",
              " 53: 'Q',\n",
              " 54: 'R',\n",
              " 55: 'S',\n",
              " 56: 'T',\n",
              " 57: 'U',\n",
              " 58: 'V',\n",
              " 59: 'W',\n",
              " 60: 'X',\n",
              " 61: 'Y',\n",
              " 62: 'Z',\n",
              " 63: '!',\n",
              " 64: '\"',\n",
              " 65: '#',\n",
              " 66: '$',\n",
              " 67: '%',\n",
              " 68: '&',\n",
              " 69: \"'\",\n",
              " 70: '(',\n",
              " 71: ')',\n",
              " 72: '*',\n",
              " 73: '+',\n",
              " 74: ',',\n",
              " 75: '-',\n",
              " 76: '.',\n",
              " 77: '/',\n",
              " 78: ':',\n",
              " 79: ';',\n",
              " 80: '<',\n",
              " 81: '=',\n",
              " 82: '>',\n",
              " 83: '?',\n",
              " 84: '@',\n",
              " 85: '[',\n",
              " 86: '\\\\',\n",
              " 87: ']',\n",
              " 88: '^',\n",
              " 89: '_',\n",
              " 90: '`',\n",
              " 91: '{',\n",
              " 92: '|',\n",
              " 93: '}',\n",
              " 94: '~',\n",
              " 95: ' ',\n",
              " 96: '\\t',\n",
              " 97: '\\n',\n",
              " 98: '\\r',\n",
              " 99: '\\x0b',\n",
              " 100: '\\x0c'}"
            ]
          },
          "metadata": {
            "tags": []
          },
          "execution_count": 5
        }
      ]
    }
  ]
}